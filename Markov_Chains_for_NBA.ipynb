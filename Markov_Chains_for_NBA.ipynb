{
 "cells": [
  {
   "cell_type": "markdown",
   "metadata": {},
   "source": [
    "### Simple example of conditional probability for sequential steps"
   ]
  },
  {
   "cell_type": "code",
   "execution_count": 1,
   "metadata": {},
   "outputs": [],
   "source": [
    "import numpy as np\n",
    "import random as rm"
   ]
  },
  {
   "cell_type": "code",
   "execution_count": 2,
   "metadata": {},
   "outputs": [],
   "source": [
    "# The statespace\n",
    "states = [\"Facebook_Ad\",\"Email_click\",\"Product_page\"]\n",
    "\n",
    "# Possible sequences of events\n",
    "transitionName = [[\"FF\",\"FE\",\"FP\"],\n",
    "                  [\"EF\",\"EE\",\"EP\"],\n",
    "                  [\"PF\",\"PE\",\"PP\"]]\n",
    "\n",
    "# Probabilities matrix (transition matrix)\n",
    "transitionMatrix = [[0.2,0.6,0.2],\n",
    "                    [0.1,0.6,0.3],\n",
    "                    [0.2,0.7,0.1]]"
   ]
  },
  {
   "cell_type": "markdown",
   "metadata": {},
   "source": [
    "### This step checks if all probabilties add up to 1 for all possibilities"
   ]
  },
  {
   "cell_type": "code",
   "execution_count": 3,
   "metadata": {
    "scrolled": true
   },
   "outputs": [
    {
     "name": "stdout",
     "output_type": "stream",
     "text": [
      "All is gonna be okay, you should move on!! ;)\n"
     ]
    }
   ],
   "source": [
    "if sum(transitionMatrix[0])+sum(transitionMatrix[1])+sum(transitionMatrix[1]) != 3:\n",
    "    print(\"Somewhere, something went wrong. Transition matrix, perhaps?\")\n",
    "else: print(\"All is gonna be okay, you should move on!! ;)\")"
   ]
  },
  {
   "cell_type": "markdown",
   "metadata": {},
   "source": [
    "Now let's code the real thing. You will use the numpy.random.choice to generate a random sample from the set of transitions possible. While most of its arguments are self-explanatory, the p might not be. It is an optional argument that lets you enter the probability distribution for the sampling set, which is the transition matrix in this case."
   ]
  },
  {
   "cell_type": "code",
   "execution_count": 4,
   "metadata": {
    "scrolled": false
   },
   "outputs": [
    {
     "name": "stdout",
     "output_type": "stream",
     "text": [
      "Start state: Email\n",
      "Possible states: ['Email', 'Product_Page', 'Facebook_Ad']\n",
      "End state after 2 days: Facebook_Ad\n",
      "Probability of the possible sequence of states: 0.06\n"
     ]
    }
   ],
   "source": [
    "# A function that implements the Markov model to forecast the state/mood.\n",
    "def activity_forecast(days):\n",
    "    # Choose the starting state\n",
    "    activityToday = \"Email\"\n",
    "    print(\"Start state: \" + activityToday)\n",
    "    # Shall store the sequence of states taken. So, this only has the starting state for now.\n",
    "    activityList = [activityToday]\n",
    "    i = 0\n",
    "    # To calculate the probability of the activityList\n",
    "    prob = 1\n",
    "    while i != days:\n",
    "        if activityToday == \"Facebook_Ad\":\n",
    "            change = np.random.choice(transitionName[0],replace=True,p=transitionMatrix[0])\n",
    "            if change == \"FF\":\n",
    "                prob = prob * transitionMatrix[0][0]\n",
    "                activityList.append(\"Facebook_Ad\")\n",
    "                pass\n",
    "            elif change == \"FE\":\n",
    "                prob = prob * transitionMatrix[0][1]\n",
    "                activityToday = \"Email\"\n",
    "                activityList.append(\"Email\")\n",
    "            else:\n",
    "                prob = prob * transitionMatrix[0][2]\n",
    "                activityToday = \"Product_Page\"\n",
    "                activityList.append(\"Product_Page\")\n",
    "        elif activityToday == \"Email\":\n",
    "            change = np.random.choice(transitionName[1],replace=True,p=transitionMatrix[1])\n",
    "            if change == \"EE\":\n",
    "                prob = prob * transitionMatrix[1][1]\n",
    "                activityList.append(\"Email\")\n",
    "                pass\n",
    "            elif change == \"EF\":\n",
    "                prob = prob * transitionMatrix[1][0]\n",
    "                activityToday = \"Facebook_Ad\"\n",
    "                activityList.append(\"Facebook_Ad\")\n",
    "            else:\n",
    "                prob = prob * transitionMatrix[1][2]\n",
    "                activityToday = \"Product_Page\"\n",
    "                activityList.append(\"Product_Page\")\n",
    "        elif activityToday == \"Product_Page\":\n",
    "            change = np.random.choice(transitionName[2],replace=True,p=transitionMatrix[2])\n",
    "            if change == \"PP\":\n",
    "                prob = prob * transitionMatrix[2][3]\n",
    "                activityList.append(\"Product_Page\")\n",
    "                pass\n",
    "            elif change == \"PF\":\n",
    "                prob = prob * transitionMatrix[2][0]\n",
    "                activityToday = \"Facebook_Ad\"\n",
    "                activityList.append(\"Facebook_Ad\")\n",
    "            else:\n",
    "                prob = prob * transitionMatrix[2][1]\n",
    "                activityToday = \"Email\"\n",
    "                activityList.append(\"Email\")\n",
    "        i += 1  \n",
    "    print(\"Possible states: \" + str(activityList))\n",
    "    print(\"End state after \"+ str(days) + \" days: \" + activityToday)\n",
    "    print(\"Probability of the possible sequence of states: \" + str(prob))\n",
    "\n",
    "# Function that forecasts the possible state for next 2 days; can be applied to n days to forecast customer journey\n",
    "activity_forecast(2)"
   ]
  },
  {
   "cell_type": "markdown",
   "metadata": {},
   "source": [
    "You get a random set of transitions possible along with the probability of it happening, starting from state: 'facebook'. Extend the program further to maybe iterate it for a couple of hundred times with the same starting state, you can then see the expected probability of ending at any particular state along with its probability. Let's rewrite the function activity_forecast and add a fresh set of loops to do this..."
   ]
  },
  {
   "cell_type": "code",
   "execution_count": 5,
   "metadata": {},
   "outputs": [
    {
     "name": "stdout",
     "output_type": "stream",
     "text": [
      "The probability of starting at state:'Facebook' and ending at state:'Email'= 60.39%\n"
     ]
    }
   ],
   "source": [
    "def activity_forecast(days):\n",
    "    # Choose the starting state\n",
    "    activityToday = \"Product_Page\"\n",
    "    # Shall store the sequence of states taken. So, this only has the starting state for now.\n",
    "    activityList = [activityToday]\n",
    "    i = 0\n",
    "    # To calculate the probability of the activityList\n",
    "    prob = 1\n",
    "    while i != days:\n",
    "        if activityToday == \"Facebook_Ad\":\n",
    "            change = np.random.choice(transitionName[0],replace=True,p=transitionMatrix[0])\n",
    "            if change == \"FF\":\n",
    "                prob = prob * 0.2\n",
    "                activityList.append(\"Facebook_Ad\")\n",
    "                pass\n",
    "            elif change == \"FE\":\n",
    "                prob = prob * 0.6\n",
    "                activityToday = \"Email\"\n",
    "                activityList.append(\"Email\")\n",
    "            else:\n",
    "                prob = prob * 0.2\n",
    "                activityToday = \"Product_Page\"\n",
    "                activityList.append(\"Product_Page\")\n",
    "        elif activityToday == \"Email\":\n",
    "            change = np.random.choice(transitionName[1],replace=True,p=transitionMatrix[1])\n",
    "            if change == \"EE\":\n",
    "                prob = prob * 0.5\n",
    "                activityList.append(\"Email\")\n",
    "                pass\n",
    "            elif change == \"EF\":\n",
    "                prob = prob * 0.2\n",
    "                activityToday = \"Facebook_Ad\"\n",
    "                activityList.append(\"Facebook_Ad\")\n",
    "            else:\n",
    "                prob = prob * 0.3\n",
    "                activityToday = \"Product_Page\"\n",
    "                activityList.append(\"Product_Page\")\n",
    "        elif activityToday == \"Product_Page\":\n",
    "            change = np.random.choice(transitionName[2],replace=True,p=transitionMatrix[2])\n",
    "            if change == \"PP\":\n",
    "                prob = prob * 0.1\n",
    "                activityList.append(\"Product_Page\")\n",
    "                pass\n",
    "            elif change == \"PF\":\n",
    "                prob = prob * 0.2\n",
    "                activityToday = \"Facebook_Ad\"\n",
    "                activityList.append(\"Facebook_Ad\")\n",
    "            else:\n",
    "                prob = prob * 0.7\n",
    "                activityToday = \"Email\"\n",
    "                activityList.append(\"Email\")\n",
    "        i += 1 \n",
    "    return activityList\n",
    "\n",
    "# To save every activityList\n",
    "list_activity = []\n",
    "count = 0\n",
    "\n",
    "# `Range` starts from the first count up until but excluding the last count\n",
    "for iterations in range(1,10000):\n",
    "        list_activity.append(activity_forecast(2))\n",
    "\n",
    "# Check out all the `activityList` we collected    \n",
    "#print(list_activity)\n",
    "\n",
    "# Iterate through the list to get a count of all activities ending in state:'Email'\n",
    "for smaller_list in list_activity:\n",
    "    if(smaller_list[2] == \"Email\"):\n",
    "        count += 1\n",
    "\n",
    "# Calculate the probability of starting from state:'Facebook' and ending at state:'Email'\n",
    "percentage = (count/10000) * 100\n",
    "print(\"The probability of starting at state:'Facebook' and ending at state:'Email'= \" + str(percentage) + \"%\")"
   ]
  },
  {
   "cell_type": "markdown",
   "metadata": {},
   "source": [
    "How did we approximate towards the desired 62%?\n",
    "\n",
    "Note This is actually the \"law of large numbers\", which is a principle of probability that states that the frequencies of events with the same likelihood of occurrence even out, but only if there are enough trials or instances. In other words, as the number of experiments increases, the actual ratio of outcomes will converge on a theoretical or expected ratio of outcomes.\n",
    "\n"
   ]
  },
  {
   "cell_type": "markdown",
   "metadata": {},
   "source": [
    "## Markov Chains States Simulator"
   ]
  },
  {
   "cell_type": "code",
   "execution_count": 6,
   "metadata": {},
   "outputs": [],
   "source": [
    "import numpy as np\n",
    "\n",
    "\n",
    "#Create a class that isntatitates current state\n",
    "\n",
    "class MarkovChain(object):\n",
    "    def __init__(self, transition_prob):\n",
    "        \"\"\"\n",
    "        Initialize the MarkovChain instance.\n",
    " \n",
    "        Parameters\n",
    "        ----------\n",
    "        transition_prob: dict\n",
    "            A dict object representing the transition \n",
    "            probabilities in Markov Chain. \n",
    "            Should be of the form: \n",
    "                {'state1': {'state1': 0.1, 'state2': 0.4}, \n",
    "                 'state2': {...}}\n",
    "        \"\"\"\n",
    "        self.transition_prob = transition_prob\n",
    "        self.states = list(transition_prob.keys())\n",
    "\n",
    "#write a method that predicts most likely next state\n",
    "\n",
    "    def next_state(self, current_state):\n",
    "        \"\"\"\n",
    "        Returns the state of the random variable at the next time \n",
    "        instance.\n",
    " \n",
    "        Parameters\n",
    "        ----------\n",
    "        current_state: str\n",
    "            The current state of the system.\n",
    "        \"\"\"\n",
    "        return np.random.choice(\n",
    "            self.states, \n",
    "            p=[self.transition_prob[current_state][next_state] \n",
    "               for next_state in self.states]\n",
    "        )\n",
    "\n",
    "#write a method that predicts most likely customer jouurney for a dfined number of actions till conversion\n",
    "\n",
    "    def generate_states(self, current_state, no=10):\n",
    "        \"\"\"\n",
    "        Generates the next states of the system.\n",
    " \n",
    "        Parameters\n",
    "        ----------\n",
    "        current_state: str\n",
    "            The state of the current random variable.\n",
    " \n",
    "        no: int\n",
    "            The number of future states to generate.\n",
    "        \"\"\"\n",
    "        future_states = []\n",
    "        for i in range(no):\n",
    "            next_state = self.next_state(current_state)\n",
    "            future_states.append(next_state)\n",
    "            current_state = next_state\n",
    "        return future_states"
   ]
  },
  {
   "cell_type": "markdown",
   "metadata": {},
   "source": [
    "### Create State Transition Probability matrix / nested dictionary"
   ]
  },
  {
   "cell_type": "code",
   "execution_count": 9,
   "metadata": {
    "scrolled": true
   },
   "outputs": [],
   "source": [
    "transition_prob = {'Facebook': {'Facebook': 0.8, 'Email': 0.19, \n",
    " 'Product_Page': 0.01},\n",
    " 'Email': {'Facebook': 0.2, 'Email': 0.7,\n",
    " 'Product_Page': 0.1},\n",
    " 'Product_Page': {'Facebook': 0.1, 'Email': 0.2,\n",
    " 'Product_Page': 0.7}}\n",
    " \n",
    "weather_chain = MarkovChain(transition_prob=transition_prob)"
   ]
  },
  {
   "cell_type": "code",
   "execution_count": 10,
   "metadata": {},
   "outputs": [
    {
     "data": {
      "text/plain": [
       "'Facebook'"
      ]
     },
     "execution_count": 10,
     "metadata": {},
     "output_type": "execute_result"
    }
   ],
   "source": [
    "#Predict Next State from current state\n",
    "\n",
    "weather_chain.next_state(current_state='Facebook')"
   ]
  },
  {
   "cell_type": "code",
   "execution_count": 8,
   "metadata": {
    "scrolled": true
   },
   "outputs": [
    {
     "data": {
      "text/plain": [
       "['Email',\n",
       " 'Email',\n",
       " 'Email',\n",
       " 'Email',\n",
       " 'Facebook',\n",
       " 'Facebook',\n",
       " 'Facebook',\n",
       " 'Facebook',\n",
       " 'Facebook',\n",
       " 'Facebook']"
      ]
     },
     "execution_count": 8,
     "metadata": {},
     "output_type": "execute_result"
    }
   ],
   "source": [
    "weather_chain.generate_states(current_state='Product_Page', no=10)     "
   ]
  },
  {
   "cell_type": "markdown",
   "metadata": {},
   "source": [
    "### Same function, using probability matrix instead of nested dictionary"
   ]
  },
  {
   "cell_type": "code",
   "execution_count": 26,
   "metadata": {},
   "outputs": [],
   "source": [
    "import numpy as np\n",
    " \n",
    "class MarkovChain(object):\n",
    "    def __init__(self, transition_matrix, states):\n",
    "        \"\"\"\n",
    "        Initialize the MarkovChain instance.\n",
    " \n",
    "        Parameters\n",
    "        ----------\n",
    "        transition_matrix: 2-D array\n",
    "            A 2-D array representing the probabilities of change of \n",
    "            state in the Markov Chain.\n",
    " \n",
    "        states: 1-D array \n",
    "            An array representing the states of the Markov Chain. It\n",
    "            needs to be in the same order as transition_matrix.\n",
    "        \"\"\"\n",
    "        self.transition_matrix = np.atleast_2d(transition_matrix)\n",
    "        self.states = states\n",
    "        self.index_dict = {self.states[index]: index for index in \n",
    "                           range(len(self.states))}\n",
    "        self.state_dict = {index: self.states[index] for index in\n",
    "                           range(len(self.states))}\n",
    " \n",
    "    def next_state(self, current_state):\n",
    "        \"\"\"\n",
    "        Returns the state of the random variable at the next time \n",
    "        instance.\n",
    " \n",
    "        Parameters\n",
    "        ----------\n",
    "        current_state: str\n",
    "            The current state of the system.\n",
    "        \"\"\"\n",
    "        return np.random.choice(\n",
    "         self.states, \n",
    "         p=self.transition_matrix[self.index_dict[current_state], :]\n",
    "        )\n",
    " \n",
    "    def generate_states(self, current_state, no=10):\n",
    "        \"\"\"\n",
    "        Generates the next states of the system.\n",
    " \n",
    "        Parameters\n",
    "        ----------\n",
    "        current_state: str\n",
    "            The state of the current random variable.\n",
    " \n",
    "        no: int\n",
    "            The number of future states to generate.\n",
    "        \"\"\"\n",
    "        future_states = []\n",
    "        for i in range(no):\n",
    "            next_state = self.next_state(current_state)\n",
    "            future_states.append(next_state)\n",
    "            current_state = next_state\n",
    "        return future_states"
   ]
  },
  {
   "cell_type": "code",
   "execution_count": 27,
   "metadata": {
    "scrolled": true
   },
   "outputs": [
    {
     "data": {
      "text/plain": [
       "'Facebook'"
      ]
     },
     "execution_count": 27,
     "metadata": {},
     "output_type": "execute_result"
    }
   ],
   "source": [
    ">>> transition_matrix = [[0.8, 0.19, 0.01],\n",
    "                         [0.2,  0.7,  0.1],\n",
    "                         [0.1,  0.2,  0.7]]\n",
    ">>> weather_chain = MarkovChain(transition_matrix=transition_matrix,\n",
    "                                states=['Facebook', 'Email', 'Product_page'])\n",
    ">>> weather_chain.next_state(current_state='Facebook')\n",
    "\n"
   ]
  },
  {
   "cell_type": "code",
   "execution_count": 28,
   "metadata": {},
   "outputs": [
    {
     "data": {
      "text/plain": [
       "'Email'"
      ]
     },
     "execution_count": 28,
     "metadata": {},
     "output_type": "execute_result"
    }
   ],
   "source": [
    "weather_chain.next_state(current_state='Email')"
   ]
  },
  {
   "cell_type": "code",
   "execution_count": 29,
   "metadata": {},
   "outputs": [
    {
     "data": {
      "text/plain": [
       "['Product_page',\n",
       " 'Product_page',\n",
       " 'Email',\n",
       " 'Email',\n",
       " 'Email',\n",
       " 'Facebook',\n",
       " 'Facebook']"
      ]
     },
     "execution_count": 29,
     "metadata": {},
     "output_type": "execute_result"
    }
   ],
   "source": [
    "weather_chain.generate_states(current_state='Product_page', no=7)"
   ]
  },
  {
   "cell_type": "markdown",
   "metadata": {},
   "source": [
    "### How many actions does it take on average to conversion?"
   ]
  },
  {
   "cell_type": "code",
   "execution_count": 30,
   "metadata": {},
   "outputs": [
    {
     "data": {
      "text/plain": [
       "['Product_page', 'Facebook', 'Facebook', 'Facebook', 'Email']"
      ]
     },
     "execution_count": 30,
     "metadata": {},
     "output_type": "execute_result"
    }
   ],
   "source": [
    "#If the answer is 5, then let's generate a predicted journey map\n",
    "\n",
    "weather_chain.generate_states(current_state='Product_page', no=5)"
   ]
  }
 ],
 "metadata": {
  "kernelspec": {
   "display_name": "Python 3",
   "language": "python",
   "name": "python3"
  },
  "language_info": {
   "codemirror_mode": {
    "name": "ipython",
    "version": 3
   },
   "file_extension": ".py",
   "mimetype": "text/x-python",
   "name": "python",
   "nbconvert_exporter": "python",
   "pygments_lexer": "ipython3",
   "version": "3.7.3"
  }
 },
 "nbformat": 4,
 "nbformat_minor": 2
}
