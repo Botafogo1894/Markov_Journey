{
 "cells": [
  {
   "cell_type": "markdown",
   "metadata": {},
   "source": [
    "## Import main libraries"
   ]
  },
  {
   "cell_type": "code",
   "execution_count": 12,
   "metadata": {},
   "outputs": [],
   "source": [
    "from graphviz import Digraph\n",
    "import pandas as pd\n",
    "import numpy as np\n",
    "from collections import Counter\n",
    "import matplotlib.pyplot as plt\n",
    "%matplotlib inline\n",
    "from pylab import rcParams\n",
    "rcParams['figure.figsize'] = 14, 6"
   ]
  },
  {
   "cell_type": "markdown",
   "metadata": {},
   "source": [
    "## Markov Chains States Simulator"
   ]
  },
  {
   "cell_type": "code",
   "execution_count": 13,
   "metadata": {},
   "outputs": [],
   "source": [
    "#Create a class that isntatitates current state\n",
    "\n",
    "class MarkovChain(object):\n",
    "    def __init__(self, transition_prob):\n",
    "        \"\"\"\n",
    "        Initialize the MarkovChain instance.\n",
    " \n",
    "        Parameters\n",
    "        ----------\n",
    "        transition_prob: dict\n",
    "            A dict object representing the transition \n",
    "            probabilities in Markov Chain. \n",
    "            Should be of the form: \n",
    "                {'state1': {'state1': 0.1, 'state2': 0.4}, \n",
    "                 'state2': {...}}\n",
    "        \"\"\"\n",
    "        self.transition_prob = transition_prob\n",
    "        self.states = list(transition_prob.keys())\n",
    "\n",
    "#write a method that predicts most likely next state\n",
    "\n",
    "    def next_state(self, current_state):\n",
    "        \"\"\"\n",
    "        Returns the state of the random variable at the next time \n",
    "        instance.\n",
    " \n",
    "        Parameters\n",
    "        ----------\n",
    "        current_state: str\n",
    "            The current state of the system.\n",
    "        \"\"\"\n",
    "        return np.random.choice(\n",
    "            self.states, \n",
    "            p=[self.transition_prob[current_state][next_state] \n",
    "               for next_state in self.states]\n",
    "        )\n",
    "\n",
    "#write a method that predicts most likely customer jouurney for a defined number of actions till conversion\n",
    "\n",
    "    def generate_states(self, current_state, no=10):\n",
    "        \"\"\"\n",
    "        Generates the next states of the system.\n",
    " \n",
    "        Parameters\n",
    "        ----------\n",
    "        current_state: str\n",
    "            The state of the current random variable.\n",
    " \n",
    "        no: int\n",
    "            The number of future states to generate.\n",
    "        \"\"\"\n",
    "        future_states = []\n",
    "        for i in range(no):\n",
    "            next_state = self.next_state(current_state)\n",
    "            future_states.append(next_state)\n",
    "            current_state = next_state\n",
    "        return future_states"
   ]
  },
  {
   "cell_type": "markdown",
   "metadata": {},
   "source": [
    "## Import table with conversion metrics"
   ]
  },
  {
   "cell_type": "code",
   "execution_count": 14,
   "metadata": {},
   "outputs": [],
   "source": [
    "df = pd.read_csv('markov_data.csv')"
   ]
  },
  {
   "cell_type": "code",
   "execution_count": 18,
   "metadata": {},
   "outputs": [
    {
     "data": {
      "text/html": [
       "<div>\n",
       "<style scoped>\n",
       "    .dataframe tbody tr th:only-of-type {\n",
       "        vertical-align: middle;\n",
       "    }\n",
       "\n",
       "    .dataframe tbody tr th {\n",
       "        vertical-align: top;\n",
       "    }\n",
       "\n",
       "    .dataframe thead th {\n",
       "        text-align: right;\n",
       "    }\n",
       "</style>\n",
       "<table border=\"1\" class=\"dataframe\">\n",
       "  <thead>\n",
       "    <tr style=\"text-align: right;\">\n",
       "      <th></th>\n",
       "      <th>td_client_id</th>\n",
       "      <th>first_name</th>\n",
       "      <th>last_name</th>\n",
       "      <th>email</th>\n",
       "      <th>avg_session_touchpoints_count</th>\n",
       "      <th>avg_path_to_conversion</th>\n",
       "      <th>FB_last_touch_conversion_rate</th>\n",
       "      <th>Email_last_touch_conversion_rate</th>\n",
       "      <th>AdWords_last_touch_conversion_rate</th>\n",
       "      <th>FB_to_FB</th>\n",
       "      <th>FB_to_Email</th>\n",
       "      <th>FB_to_AdWords</th>\n",
       "      <th>Email_to_Email</th>\n",
       "      <th>Email_to_FB</th>\n",
       "      <th>Email_to_AdWords</th>\n",
       "      <th>AdWords_to_AdWords</th>\n",
       "      <th>AdWords_to_FB</th>\n",
       "      <th>AdWords_to_Email</th>\n",
       "    </tr>\n",
       "  </thead>\n",
       "  <tbody>\n",
       "    <tr>\n",
       "      <th>0</th>\n",
       "      <td>2efee386-2be5-43da-9873-ef0ecadcb8be</td>\n",
       "      <td>Audy</td>\n",
       "      <td>Schiementz</td>\n",
       "      <td>aschiementz0@psu.edu</td>\n",
       "      <td>38</td>\n",
       "      <td>4</td>\n",
       "      <td>0.60</td>\n",
       "      <td>0.49</td>\n",
       "      <td>0.71</td>\n",
       "      <td>0.38</td>\n",
       "      <td>0.73</td>\n",
       "      <td>0.12</td>\n",
       "      <td>0.52</td>\n",
       "      <td>0.58</td>\n",
       "      <td>0.73</td>\n",
       "      <td>0.86</td>\n",
       "      <td>0.37</td>\n",
       "      <td>0.83</td>\n",
       "    </tr>\n",
       "    <tr>\n",
       "      <th>1</th>\n",
       "      <td>a114f746-5d2e-4c76-bd76-e326cac999ec</td>\n",
       "      <td>Gavin</td>\n",
       "      <td>Calton</td>\n",
       "      <td>gcalton1@soup.io</td>\n",
       "      <td>7</td>\n",
       "      <td>83</td>\n",
       "      <td>0.47</td>\n",
       "      <td>0.44</td>\n",
       "      <td>0.43</td>\n",
       "      <td>0.38</td>\n",
       "      <td>0.38</td>\n",
       "      <td>0.94</td>\n",
       "      <td>0.82</td>\n",
       "      <td>0.56</td>\n",
       "      <td>0.49</td>\n",
       "      <td>0.79</td>\n",
       "      <td>0.86</td>\n",
       "      <td>0.39</td>\n",
       "    </tr>\n",
       "    <tr>\n",
       "      <th>2</th>\n",
       "      <td>0dddb580-16f3-49f6-89c4-b9d8fee7937c</td>\n",
       "      <td>Arlyne</td>\n",
       "      <td>Haylor</td>\n",
       "      <td>ahaylor2@wufoo.com</td>\n",
       "      <td>76</td>\n",
       "      <td>67</td>\n",
       "      <td>0.28</td>\n",
       "      <td>0.58</td>\n",
       "      <td>0.57</td>\n",
       "      <td>0.81</td>\n",
       "      <td>0.40</td>\n",
       "      <td>0.55</td>\n",
       "      <td>0.41</td>\n",
       "      <td>0.88</td>\n",
       "      <td>0.35</td>\n",
       "      <td>0.79</td>\n",
       "      <td>0.52</td>\n",
       "      <td>0.62</td>\n",
       "    </tr>\n",
       "    <tr>\n",
       "      <th>3</th>\n",
       "      <td>cac304f9-8cd4-42f3-8f70-b104196cd0dd</td>\n",
       "      <td>Kimmy</td>\n",
       "      <td>Ranvoise</td>\n",
       "      <td>kranvoise3@ustream.tv</td>\n",
       "      <td>19</td>\n",
       "      <td>54</td>\n",
       "      <td>0.56</td>\n",
       "      <td>0.73</td>\n",
       "      <td>0.54</td>\n",
       "      <td>0.45</td>\n",
       "      <td>0.84</td>\n",
       "      <td>0.22</td>\n",
       "      <td>0.70</td>\n",
       "      <td>0.51</td>\n",
       "      <td>0.65</td>\n",
       "      <td>0.11</td>\n",
       "      <td>0.32</td>\n",
       "      <td>0.20</td>\n",
       "    </tr>\n",
       "    <tr>\n",
       "      <th>4</th>\n",
       "      <td>76d24962-4e56-4d74-ab18-917256b6b578</td>\n",
       "      <td>Barton</td>\n",
       "      <td>Jewes</td>\n",
       "      <td>bjewes4@about.com</td>\n",
       "      <td>44</td>\n",
       "      <td>90</td>\n",
       "      <td>0.92</td>\n",
       "      <td>0.15</td>\n",
       "      <td>0.82</td>\n",
       "      <td>0.28</td>\n",
       "      <td>0.70</td>\n",
       "      <td>0.26</td>\n",
       "      <td>0.79</td>\n",
       "      <td>0.46</td>\n",
       "      <td>0.57</td>\n",
       "      <td>0.12</td>\n",
       "      <td>0.27</td>\n",
       "      <td>0.80</td>\n",
       "    </tr>\n",
       "  </tbody>\n",
       "</table>\n",
       "</div>"
      ],
      "text/plain": [
       "                           td_client_id first_name   last_name  \\\n",
       "0  2efee386-2be5-43da-9873-ef0ecadcb8be       Audy  Schiementz   \n",
       "1  a114f746-5d2e-4c76-bd76-e326cac999ec      Gavin      Calton   \n",
       "2  0dddb580-16f3-49f6-89c4-b9d8fee7937c     Arlyne      Haylor   \n",
       "3  cac304f9-8cd4-42f3-8f70-b104196cd0dd      Kimmy    Ranvoise   \n",
       "4  76d24962-4e56-4d74-ab18-917256b6b578     Barton       Jewes   \n",
       "\n",
       "                   email  avg_session_touchpoints_count  \\\n",
       "0   aschiementz0@psu.edu                             38   \n",
       "1       gcalton1@soup.io                              7   \n",
       "2     ahaylor2@wufoo.com                             76   \n",
       "3  kranvoise3@ustream.tv                             19   \n",
       "4      bjewes4@about.com                             44   \n",
       "\n",
       "   avg_path_to_conversion  FB_last_touch_conversion_rate  \\\n",
       "0                       4                           0.60   \n",
       "1                      83                           0.47   \n",
       "2                      67                           0.28   \n",
       "3                      54                           0.56   \n",
       "4                      90                           0.92   \n",
       "\n",
       "   Email_last_touch_conversion_rate  AdWords_last_touch_conversion_rate  \\\n",
       "0                              0.49                                0.71   \n",
       "1                              0.44                                0.43   \n",
       "2                              0.58                                0.57   \n",
       "3                              0.73                                0.54   \n",
       "4                              0.15                                0.82   \n",
       "\n",
       "   FB_to_FB  FB_to_Email  FB_to_AdWords  Email_to_Email  Email_to_FB  \\\n",
       "0      0.38         0.73           0.12            0.52         0.58   \n",
       "1      0.38         0.38           0.94            0.82         0.56   \n",
       "2      0.81         0.40           0.55            0.41         0.88   \n",
       "3      0.45         0.84           0.22            0.70         0.51   \n",
       "4      0.28         0.70           0.26            0.79         0.46   \n",
       "\n",
       "   Email_to_AdWords  AdWords_to_AdWords  AdWords_to_FB  AdWords_to_Email  \n",
       "0              0.73                0.86           0.37              0.83  \n",
       "1              0.49                0.79           0.86              0.39  \n",
       "2              0.35                0.79           0.52              0.62  \n",
       "3              0.65                0.11           0.32              0.20  \n",
       "4              0.57                0.12           0.27              0.80  "
      ]
     },
     "execution_count": 18,
     "metadata": {},
     "output_type": "execute_result"
    }
   ],
   "source": [
    "df.head()"
   ]
  },
  {
   "cell_type": "markdown",
   "metadata": {},
   "source": [
    "### Create State Transition Probability matrix / nested dictionary"
   ]
  },
  {
   "cell_type": "code",
   "execution_count": 21,
   "metadata": {},
   "outputs": [
    {
     "data": {
      "text/plain": [
       "1000"
      ]
     },
     "execution_count": 21,
     "metadata": {},
     "output_type": "execute_result"
    }
   ],
   "source": [
    "test = df.to_dict('records')\n",
    "len(test)"
   ]
  },
  {
   "cell_type": "code",
   "execution_count": 22,
   "metadata": {
    "scrolled": true
   },
   "outputs": [
    {
     "data": {
      "text/plain": [
       "[{'td_client_id': '2efee386-2be5-43da-9873-ef0ecadcb8be',\n",
       "  'first_name': 'Audy',\n",
       "  'last_name': 'Schiementz',\n",
       "  'email': 'aschiementz0@psu.edu',\n",
       "  'avg_session_touchpoints_count': 38,\n",
       "  'avg_path_to_conversion': 4,\n",
       "  'FB_last_touch_conversion_rate': 0.6,\n",
       "  'Email_last_touch_conversion_rate': 0.49,\n",
       "  'AdWords_last_touch_conversion_rate': 0.71,\n",
       "  'FB_to_FB': 0.38,\n",
       "  'FB_to_Email': 0.73,\n",
       "  'FB_to_AdWords': 0.12,\n",
       "  'Email_to_Email': 0.52,\n",
       "  'Email_to_FB': 0.58,\n",
       "  'Email_to_AdWords': 0.73,\n",
       "  'AdWords_to_AdWords': 0.86,\n",
       "  'AdWords_to_FB': 0.37,\n",
       "  'AdWords_to_Email': 0.83},\n",
       " {'td_client_id': 'a114f746-5d2e-4c76-bd76-e326cac999ec',\n",
       "  'first_name': 'Gavin',\n",
       "  'last_name': 'Calton',\n",
       "  'email': 'gcalton1@soup.io',\n",
       "  'avg_session_touchpoints_count': 7,\n",
       "  'avg_path_to_conversion': 83,\n",
       "  'FB_last_touch_conversion_rate': 0.47,\n",
       "  'Email_last_touch_conversion_rate': 0.44,\n",
       "  'AdWords_last_touch_conversion_rate': 0.43,\n",
       "  'FB_to_FB': 0.38,\n",
       "  'FB_to_Email': 0.38,\n",
       "  'FB_to_AdWords': 0.94,\n",
       "  'Email_to_Email': 0.82,\n",
       "  'Email_to_FB': 0.56,\n",
       "  'Email_to_AdWords': 0.49,\n",
       "  'AdWords_to_AdWords': 0.79,\n",
       "  'AdWords_to_FB': 0.86,\n",
       "  'AdWords_to_Email': 0.39}]"
      ]
     },
     "execution_count": 22,
     "metadata": {},
     "output_type": "execute_result"
    }
   ],
   "source": [
    "test[:2]"
   ]
  },
  {
   "cell_type": "code",
   "execution_count": 37,
   "metadata": {},
   "outputs": [],
   "source": [
    "def create_user_TM(test_list):\n",
    "    listy = []\n",
    "    for item in test_list:\n",
    "        td_client_id = item['td_client_id']\n",
    "        transition_prob = {'FB': {'FB': item['FB_to_FB'], 'Email': item['FB_to_Email'], 'AdWords' : item['FB_to_AdWords']},\n",
    "                          'Email' : {'FB': item['Email_to_FB'], 'Email': item['Email_to_Email'], 'AdWords' : item['Email_to_AdWords']},\n",
    "                          'AdWords' : {'FB': item['AdWords_to_FB'], 'Email': item['AdWords_to_Email'], 'AdWords' : item['AdWords_to_AdWords']}}\n",
    "        avg_session_touchpoints_count = item['avg_session_touchpoints_count']\n",
    "        FB_conv_rate = item['FB_last_touch_conversion_rate']\n",
    "        Email_conv_rate = item['Email_last_touch_conversion_rate']\n",
    "        AdWords_conv_rate = item['AdWords_last_touch_conversion_rate']\n",
    "        \n",
    "        tup = (td_client_id, avg_session_touchpoints_count, FB_conv_rate,\n",
    "               Email_conv_rate, AdWords_conv_rate, transition_prob)\n",
    "        listy.append(tup)   \n",
    "    return listy"
   ]
  },
  {
   "cell_type": "code",
   "execution_count": 38,
   "metadata": {},
   "outputs": [],
   "source": [
    "testme = create_user_TM(test[:10])"
   ]
  },
  {
   "cell_type": "code",
   "execution_count": 39,
   "metadata": {
    "scrolled": true
   },
   "outputs": [
    {
     "data": {
      "text/plain": [
       "[('2efee386-2be5-43da-9873-ef0ecadcb8be',\n",
       "  38,\n",
       "  0.6,\n",
       "  0.49,\n",
       "  0.71,\n",
       "  {'FB': {'FB': 0.38, 'Email': 0.73, 'AdWords': 0.12},\n",
       "   'Email': {'FB': 0.58, 'Email': 0.52, 'AdWords': 0.73},\n",
       "   'AdWords': {'FB': 0.37, 'Email': 0.83, 'AdWords': 0.86}}),\n",
       " ('a114f746-5d2e-4c76-bd76-e326cac999ec',\n",
       "  7,\n",
       "  0.47,\n",
       "  0.44,\n",
       "  0.43,\n",
       "  {'FB': {'FB': 0.38, 'Email': 0.38, 'AdWords': 0.94},\n",
       "   'Email': {'FB': 0.56, 'Email': 0.82, 'AdWords': 0.49},\n",
       "   'AdWords': {'FB': 0.86, 'Email': 0.39, 'AdWords': 0.79}}),\n",
       " ('0dddb580-16f3-49f6-89c4-b9d8fee7937c',\n",
       "  76,\n",
       "  0.28,\n",
       "  0.58,\n",
       "  0.57,\n",
       "  {'FB': {'FB': 0.81, 'Email': 0.4, 'AdWords': 0.55},\n",
       "   'Email': {'FB': 0.88, 'Email': 0.41, 'AdWords': 0.35},\n",
       "   'AdWords': {'FB': 0.52, 'Email': 0.62, 'AdWords': 0.79}})]"
      ]
     },
     "execution_count": 39,
     "metadata": {},
     "output_type": "execute_result"
    }
   ],
   "source": [
    "testme[:3]"
   ]
  },
  {
   "cell_type": "code",
   "execution_count": 35,
   "metadata": {},
   "outputs": [],
   "source": [
    "hm = pd.DataFrame(testme[0])"
   ]
  },
  {
   "cell_type": "code",
   "execution_count": 36,
   "metadata": {},
   "outputs": [
    {
     "data": {
      "text/html": [
       "<div>\n",
       "<style scoped>\n",
       "    .dataframe tbody tr th:only-of-type {\n",
       "        vertical-align: middle;\n",
       "    }\n",
       "\n",
       "    .dataframe tbody tr th {\n",
       "        vertical-align: top;\n",
       "    }\n",
       "\n",
       "    .dataframe thead th {\n",
       "        text-align: right;\n",
       "    }\n",
       "</style>\n",
       "<table border=\"1\" class=\"dataframe\">\n",
       "  <thead>\n",
       "    <tr style=\"text-align: right;\">\n",
       "      <th></th>\n",
       "      <th>FB</th>\n",
       "      <th>Email</th>\n",
       "      <th>AdWords</th>\n",
       "    </tr>\n",
       "  </thead>\n",
       "  <tbody>\n",
       "    <tr>\n",
       "      <th>AdWords</th>\n",
       "      <td>0.12</td>\n",
       "      <td>0.73</td>\n",
       "      <td>0.86</td>\n",
       "    </tr>\n",
       "    <tr>\n",
       "      <th>Email</th>\n",
       "      <td>0.73</td>\n",
       "      <td>0.52</td>\n",
       "      <td>0.83</td>\n",
       "    </tr>\n",
       "    <tr>\n",
       "      <th>FB</th>\n",
       "      <td>0.38</td>\n",
       "      <td>0.58</td>\n",
       "      <td>0.37</td>\n",
       "    </tr>\n",
       "  </tbody>\n",
       "</table>\n",
       "</div>"
      ],
      "text/plain": [
       "           FB  Email  AdWords\n",
       "AdWords  0.12   0.73     0.86\n",
       "Email    0.73   0.52     0.83\n",
       "FB       0.38   0.58     0.37"
      ]
     },
     "execution_count": 36,
     "metadata": {},
     "output_type": "execute_result"
    }
   ],
   "source": [
    "hm.head()"
   ]
  },
  {
   "cell_type": "code",
   "execution_count": 29,
   "metadata": {
    "scrolled": true
   },
   "outputs": [],
   "source": [
    "transition_prob = {'Facebook': {'Facebook': 0.8, 'Email': 0.19, \n",
    " 'Product_Page': 0.01},\n",
    " 'Email': {'Facebook': 0.2, 'Email': 0.7,\n",
    " 'Product_Page': 0.1},\n",
    " 'Product_Page': {'Facebook': 0.1, 'Email': 0.2,\n",
    " 'Product_Page': 0.7}}\n",
    " \n",
    "weather_chain = MarkovChain(transition_prob=transition_prob)\n"
   ]
  },
  {
   "cell_type": "code",
   "execution_count": 30,
   "metadata": {},
   "outputs": [],
   "source": [
    "hm = pd.DataFrame(transition_prob)"
   ]
  },
  {
   "cell_type": "code",
   "execution_count": 31,
   "metadata": {},
   "outputs": [
    {
     "data": {
      "text/html": [
       "<div>\n",
       "<style scoped>\n",
       "    .dataframe tbody tr th:only-of-type {\n",
       "        vertical-align: middle;\n",
       "    }\n",
       "\n",
       "    .dataframe tbody tr th {\n",
       "        vertical-align: top;\n",
       "    }\n",
       "\n",
       "    .dataframe thead th {\n",
       "        text-align: right;\n",
       "    }\n",
       "</style>\n",
       "<table border=\"1\" class=\"dataframe\">\n",
       "  <thead>\n",
       "    <tr style=\"text-align: right;\">\n",
       "      <th></th>\n",
       "      <th>Facebook</th>\n",
       "      <th>Email</th>\n",
       "      <th>Product_Page</th>\n",
       "    </tr>\n",
       "  </thead>\n",
       "  <tbody>\n",
       "    <tr>\n",
       "      <th>Email</th>\n",
       "      <td>0.19</td>\n",
       "      <td>0.7</td>\n",
       "      <td>0.2</td>\n",
       "    </tr>\n",
       "    <tr>\n",
       "      <th>Facebook</th>\n",
       "      <td>0.80</td>\n",
       "      <td>0.2</td>\n",
       "      <td>0.1</td>\n",
       "    </tr>\n",
       "    <tr>\n",
       "      <th>Product_Page</th>\n",
       "      <td>0.01</td>\n",
       "      <td>0.1</td>\n",
       "      <td>0.7</td>\n",
       "    </tr>\n",
       "  </tbody>\n",
       "</table>\n",
       "</div>"
      ],
      "text/plain": [
       "              Facebook  Email  Product_Page\n",
       "Email             0.19    0.7           0.2\n",
       "Facebook          0.80    0.2           0.1\n",
       "Product_Page      0.01    0.1           0.7"
      ]
     },
     "execution_count": 31,
     "metadata": {},
     "output_type": "execute_result"
    }
   ],
   "source": [
    "hm.head()"
   ]
  },
  {
   "cell_type": "code",
   "execution_count": 10,
   "metadata": {},
   "outputs": [
    {
     "data": {
      "text/plain": [
       "'Facebook'"
      ]
     },
     "execution_count": 10,
     "metadata": {},
     "output_type": "execute_result"
    }
   ],
   "source": [
    "#Predict Next State from current state\n",
    "\n",
    "weather_chain.next_state(current_state='Facebook')"
   ]
  },
  {
   "cell_type": "code",
   "execution_count": 8,
   "metadata": {
    "scrolled": true
   },
   "outputs": [
    {
     "data": {
      "text/plain": [
       "['Email',\n",
       " 'Email',\n",
       " 'Email',\n",
       " 'Email',\n",
       " 'Facebook',\n",
       " 'Facebook',\n",
       " 'Facebook',\n",
       " 'Facebook',\n",
       " 'Facebook',\n",
       " 'Facebook']"
      ]
     },
     "execution_count": 8,
     "metadata": {},
     "output_type": "execute_result"
    }
   ],
   "source": [
    "weather_chain.generate_states(current_state='Product_Page', no=10)     "
   ]
  },
  {
   "cell_type": "markdown",
   "metadata": {},
   "source": [
    "### Same function, using probability matrix instead of nested dictionary"
   ]
  },
  {
   "cell_type": "code",
   "execution_count": 26,
   "metadata": {},
   "outputs": [],
   "source": [
    "import numpy as np\n",
    " \n",
    "class MarkovChain(object):\n",
    "    def __init__(self, transition_matrix, states):\n",
    "        \"\"\"\n",
    "        Initialize the MarkovChain instance.\n",
    " \n",
    "        Parameters\n",
    "        ----------\n",
    "        transition_matrix: 2-D array\n",
    "            A 2-D array representing the probabilities of change of \n",
    "            state in the Markov Chain.\n",
    " \n",
    "        states: 1-D array \n",
    "            An array representing the states of the Markov Chain. It\n",
    "            needs to be in the same order as transition_matrix.\n",
    "        \"\"\"\n",
    "        self.transition_matrix = np.atleast_2d(transition_matrix)\n",
    "        self.states = states\n",
    "        self.index_dict = {self.states[index]: index for index in \n",
    "                           range(len(self.states))}\n",
    "        self.state_dict = {index: self.states[index] for index in\n",
    "                           range(len(self.states))}\n",
    " \n",
    "    def next_state(self, current_state):\n",
    "        \"\"\"\n",
    "        Returns the state of the random variable at the next time \n",
    "        instance.\n",
    " \n",
    "        Parameters\n",
    "        ----------\n",
    "        current_state: str\n",
    "            The current state of the system.\n",
    "        \"\"\"\n",
    "        return np.random.choice(\n",
    "         self.states, \n",
    "         p=self.transition_matrix[self.index_dict[current_state], :]\n",
    "        )\n",
    " \n",
    "    def generate_states(self, current_state, no=10):\n",
    "        \"\"\"\n",
    "        Generates the next states of the system.\n",
    " \n",
    "        Parameters\n",
    "        ----------\n",
    "        current_state: str\n",
    "            The state of the current random variable.\n",
    " \n",
    "        no: int\n",
    "            The number of future states to generate.\n",
    "        \"\"\"\n",
    "        future_states = []\n",
    "        for i in range(no):\n",
    "            next_state = self.next_state(current_state)\n",
    "            future_states.append(next_state)\n",
    "            current_state = next_state\n",
    "        return future_states"
   ]
  },
  {
   "cell_type": "code",
   "execution_count": 27,
   "metadata": {
    "scrolled": true
   },
   "outputs": [
    {
     "data": {
      "text/plain": [
       "'Facebook'"
      ]
     },
     "execution_count": 27,
     "metadata": {},
     "output_type": "execute_result"
    }
   ],
   "source": [
    ">>> transition_matrix = [[0.8, 0.19, 0.01],\n",
    "                         [0.2,  0.7,  0.1],\n",
    "                         [0.1,  0.2,  0.7]]\n",
    ">>> weather_chain = MarkovChain(transition_matrix=transition_matrix,\n",
    "                                states=['Facebook', 'Email', 'Product_page'])\n",
    ">>> weather_chain.next_state(current_state='Facebook')\n",
    "\n"
   ]
  },
  {
   "cell_type": "code",
   "execution_count": 28,
   "metadata": {},
   "outputs": [
    {
     "data": {
      "text/plain": [
       "'Email'"
      ]
     },
     "execution_count": 28,
     "metadata": {},
     "output_type": "execute_result"
    }
   ],
   "source": [
    "weather_chain.next_state(current_state='Email')"
   ]
  },
  {
   "cell_type": "code",
   "execution_count": 29,
   "metadata": {},
   "outputs": [
    {
     "data": {
      "text/plain": [
       "['Product_page',\n",
       " 'Product_page',\n",
       " 'Email',\n",
       " 'Email',\n",
       " 'Email',\n",
       " 'Facebook',\n",
       " 'Facebook']"
      ]
     },
     "execution_count": 29,
     "metadata": {},
     "output_type": "execute_result"
    }
   ],
   "source": [
    "weather_chain.generate_states(current_state='Product_page', no=7)"
   ]
  },
  {
   "cell_type": "markdown",
   "metadata": {},
   "source": [
    "### How many actions does it take on average to conversion?"
   ]
  },
  {
   "cell_type": "code",
   "execution_count": 30,
   "metadata": {},
   "outputs": [
    {
     "data": {
      "text/plain": [
       "['Product_page', 'Facebook', 'Facebook', 'Facebook', 'Email']"
      ]
     },
     "execution_count": 30,
     "metadata": {},
     "output_type": "execute_result"
    }
   ],
   "source": [
    "#If the answer is 5, then let's generate a predicted journey map\n",
    "\n",
    "weather_chain.generate_states(current_state='Product_page', no=5)"
   ]
  },
  {
   "cell_type": "code",
   "execution_count": 11,
   "metadata": {},
   "outputs": [],
   "source": [
    "\n",
    "\n",
    ">>> dot = Digraph(comment='The Round Table')"
   ]
  },
  {
   "cell_type": "code",
   "execution_count": null,
   "metadata": {},
   "outputs": [],
   "source": []
  }
 ],
 "metadata": {
  "kernelspec": {
   "display_name": "Python 3",
   "language": "python",
   "name": "python3"
  },
  "language_info": {
   "codemirror_mode": {
    "name": "ipython",
    "version": 3
   },
   "file_extension": ".py",
   "mimetype": "text/x-python",
   "name": "python",
   "nbconvert_exporter": "python",
   "pygments_lexer": "ipython3",
   "version": "3.7.3"
  }
 },
 "nbformat": 4,
 "nbformat_minor": 2
}
